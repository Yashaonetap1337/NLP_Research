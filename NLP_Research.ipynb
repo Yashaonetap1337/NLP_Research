{
  "cells": [
    {
      "cell_type": "markdown",
      "source": [
        "Задача : **Сентиментальный анализ текста** — это классификация по эмоциональной\n",
        "окраске: положительной, нейтральной или негативной. Такой подход помогает, например, понимать, как пользователи оценивают товар по их отзывам."
      ],
      "metadata": {
        "id": "zOfEahDIYfCl"
      },
      "id": "zOfEahDIYfCl"
    },
    {
      "cell_type": "markdown",
      "source": [
        "# Часть 1. Первичный анализ данных и тематическое моделирование"
      ],
      "metadata": {
        "id": "J66THtwReIzB"
      },
      "id": "J66THtwReIzB"
    },
    {
      "cell_type": "code",
      "execution_count": null,
      "id": "5a267067",
      "metadata": {
        "id": "5a267067"
      },
      "outputs": [],
      "source": [
        "#импорт и установка необходимых библиотек\n",
        "import pandas as pd\n",
        "import numpy as np\n",
        "import matplotlib.pyplot as plt\n",
        "import seaborn as sns\n",
        "from collections import Counter\n",
        "import re\n",
        "from nltk import ngrams\n"
      ]
    },
    {
      "cell_type": "code",
      "execution_count": null,
      "id": "fe3e17f5",
      "metadata": {
        "id": "fe3e17f5"
      },
      "outputs": [],
      "source": [
        "#считывание данных\n",
        "data_train = pd.read_csv(r'train.csv')\n",
        "val_data = pd.read_csv(r'valid.csv')"
      ]
    },
    {
      "cell_type": "code",
      "execution_count": null,
      "id": "7eca0275",
      "metadata": {
        "id": "7eca0275",
        "colab": {
          "base_uri": "https://localhost:8080/"
        },
        "outputId": "ed714ca6-8383-4bbd-fd98-fa703faf09e3"
      },
      "outputs": [
        {
          "output_type": "stream",
          "name": "stdout",
          "text": [
            "Длина (строк): 189891\n",
            "Ширина (столбцов): 3\n",
            "Названия колонок: ['Unnamed: 0', 'text', 'sentiment']\n"
          ]
        }
      ],
      "source": [
        "rows, columns = data_train.shape\n",
        "\n",
        "print(f\"Длина (строк): {rows}\")\n",
        "print(f\"Ширина (столбцов): {columns}\")\n",
        "print(f\"Названия колонок: {data_train.columns.tolist()}\")"
      ]
    },
    {
      "cell_type": "code",
      "execution_count": null,
      "id": "488a010d",
      "metadata": {
        "id": "488a010d"
      },
      "outputs": [],
      "source": [
        "#Определение функции предобработки текста\n",
        "def preprocess(text):\n",
        "    text = str(text).lower()\n",
        "    text = re.sub(r\"[^\\w\\s]\", \"\", text)\n",
        "    return text.split()"
      ]
    },
    {
      "cell_type": "code",
      "execution_count": null,
      "id": "41c0273a",
      "metadata": {
        "id": "41c0273a",
        "colab": {
          "base_uri": "https://localhost:8080/",
          "height": 541
        },
        "outputId": "62b76651-f9b9-4990-f524-811377c8a280"
      },
      "outputs": [
        {
          "output_type": "stream",
          "name": "stdout",
          "text": [
            "Средняя длина текста: 115.0\n",
            "Медиана длины текста: 73.0\n",
            "Максимальная длина текста: 47249\n",
            "Минимальная длина текста: 0\n"
          ]
        },
        {
          "output_type": "display_data",
          "data": {
            "text/plain": [
              "<Figure size 640x480 with 1 Axes>"
            ],
            "image/png": "[encoded data removed]"
          },
          "metadata": {}
        }
      ],
      "source": [
        "# Примение к колонке с текстом функции предобработки\n",
        "data_train[\"tokens\"] = data_train[\"text\"].apply(preprocess)\n",
        "\n",
        "#  Длина текста\n",
        "data_train[\"text_length\"] = data_train[\"tokens\"].apply(len)\n",
        "\n",
        "# Статистика\n",
        "print(\"Средняя длина текста:\", data_train[\"text_length\"].mean().round())\n",
        "print(\"Медиана длины текста:\", data_train[\"text_length\"].median())\n",
        "print(\"Максимальная длина текста:\", data_train[\"text_length\"].max())\n",
        "print(\"Минимальная длина текста:\", data_train[\"text_length\"].min())\n",
        "plt.hist(data_train[\"text_length\"], bins=1000)\n",
        "plt.xlim(0, 1000)  #ограничение осей для наглядности\n",
        "plt.ylim(0, 10000)\n",
        "plt.title(\"Распределение длины текстов\")\n",
        "plt.xlabel(\"Длина (в словах)\")\n",
        "plt.ylabel(\"Частота\")\n",
        "plt.show()\n"
      ]
    },
    {
      "cell_type": "code",
      "execution_count": null,
      "id": "6c2f61d9",
      "metadata": {
        "id": "6c2f61d9",
        "colab": {
          "base_uri": "https://localhost:8080/"
        },
        "outputId": "faa9fed2-0a6a-4392-de8c-1143f0739247"
      },
      "outputs": [
        {
          "output_type": "stream",
          "name": "stdout",
          "text": [
            "Уникальных слов: 637270\n"
          ]
        }
      ],
      "source": [
        "# Количество уникальных слов в датасете\n",
        "all_words = [word for tokens in data_train[\"tokens\"] for word in tokens]\n",
        "unique_words = set(all_words)\n",
        "print(\"Уникальных слов:\", len(unique_words))\n",
        "\n"
      ]
    },
    {
      "cell_type": "code",
      "execution_count": null,
      "id": "c55de230",
      "metadata": {
        "id": "c55de230",
        "colab": {
          "base_uri": "https://localhost:8080/"
        },
        "outputId": "fb7e516c-a3c3-42a9-9c30-45f1e9870d29"
      },
      "outputs": [
        {
          "output_type": "stream",
          "name": "stdout",
          "text": [
            "Топ 20 слов: [('и', 753812), ('в', 752818), ('не', 443251), ('на', 401127), ('с', 266274), ('что', 250420), ('по', 156769), ('а', 145873), ('я', 143679), ('очень', 139823), ('но', 136840), ('это', 128531), ('все', 124673), ('за', 120052), ('к', 113646), ('как', 113096), ('у', 100095), ('для', 90354), ('так', 82071), ('от', 79274)]\n"
          ]
        }
      ],
      "source": [
        "# Топ N самых частых слов\n",
        "N = 20\n",
        "word_freq = Counter(all_words)\n",
        "top_words = word_freq.most_common(N)\n",
        "print(\"Топ\", N, \"слов:\", top_words)"
      ]
    },
    {
      "cell_type": "code",
      "execution_count": null,
      "id": "75575f99",
      "metadata": {
        "id": "75575f99",
        "colab": {
          "base_uri": "https://localhost:8080/"
        },
        "outputId": "35afdd02-30a5-46b2-d6b1-3b34f0170ff8"
      },
      "outputs": [
        {
          "output_type": "stream",
          "name": "stdout",
          "text": [
            "Топ биграммы: [(('и', 'не'), 26000), (('у', 'меня'), 19493), (('в', 'этом'), 18377), (('и', 'в'), 16013), (('у', 'нас'), 15043), (('в', 'номере'), 14813), (('то', 'что'), 14626), (('не', 'было'), 14018), (('я', 'не'), 12167), (('так', 'как'), 11741)]\n"
          ]
        }
      ],
      "source": [
        "#Считаем самые частые биграмы\n",
        "bigrams = ngrams(all_words, 2)\n",
        "bigram_counts = Counter(bigrams)\n",
        "\n",
        "top_bigrams = bigram_counts.most_common(10)\n",
        "print(f\"Топ биграммы: {top_bigrams}\")"
      ]
    },
    {
      "cell_type": "code",
      "source": [
        "# Считаем количество примеров каждого класса\n",
        "class_counts = data_train[\"sentiment\"]\n",
        "sns.countplot(x=class_counts)\n",
        "plt.title(\"Распределение классов\")\n",
        "plt.xlabel(\"Класс\")\n",
        "plt.ylabel(\"Количество\")\n",
        "plt.show()\n",
        "\n",
        "# Проверяем баланс\n",
        "print(\"Баланс классов:\")\n",
        "print(pd.Series(class_counts).value_counts(normalize=True))"
      ],
      "metadata": {
        "id": "hj8xU_yNJnJ7",
        "colab": {
          "base_uri": "https://localhost:8080/",
          "height": 576
        },
        "outputId": "4a7c51f1-f61e-4ace-f1e8-76532aff662e"
      },
      "id": "hj8xU_yNJnJ7",
      "execution_count": null,
      "outputs": [
        {
          "output_type": "display_data",
          "data": {
            "text/plain": [
              "<Figure size 640x480 with 1 Axes>"
            ],
            "image/png": "[encoded data removed]"
          },
          "metadata": {}
        },
        {
          "output_type": "stream",
          "name": "stdout",
          "text": [
            "Баланс классов:\n",
            "sentiment\n",
            "1    0.477990\n",
            "2    0.262245\n",
            "0    0.259765\n",
            "Name: proportion, dtype: float64\n"
          ]
        }
      ]
    },
    {
      "cell_type": "markdown",
      "source": [
        "Выбирается **BERTopic** для тематического моделирования, поскольку это мощный и удобный инструмент, предоставляющий полноценный пайплайн «из коробки». Он автоматически выполняет все ключевые этапы анализа:\n",
        "\n",
        "1)Векторизацию текста\n",
        "\n",
        "2)Снижение размерности векторного пространства\n",
        "\n",
        "3)Кластеризацию текстов по смысловой близости\n",
        "\n",
        "4)Выделение тем на основе наиболее репрезентативных слов в каждом кластере\n",
        "\n",
        "Одним из главных преимуществ BERTopic является гибкость: в пайплайн можно легко подставлять свои модели на разных этапах. Это позволяет адаптировать инструмент под конкретные задачи и типы данных."
      ],
      "metadata": {
        "id": "APFUcbfEfRTC"
      },
      "id": "APFUcbfEfRTC"
    },
    {
      "cell_type": "code",
      "source": [
        "%pip install bertopic -q"
      ],
      "metadata": {
        "id": "iEHf7JsxLRPu"
      },
      "id": "iEHf7JsxLRPu",
      "execution_count": null,
      "outputs": []
    },
    {
      "cell_type": "code",
      "source": [
        "from bertopic import BERTopic\n",
        "topic_model = BERTopic(language=\"multilingual\", verbose=True)\n",
        "topics, probs = topic_model.fit_transform(data_train[\"text\"])"
      ],
      "metadata": {
        "id": "3EbR6CYfLS7a"
      },
      "id": "3EbR6CYfLS7a",
      "execution_count": null,
      "outputs": []
    },
    {
      "cell_type": "code",
      "source": [
        "topic_model.get_topic_info()"
      ],
      "metadata": {
        "id": "hpeNFnFWVtd4",
        "colab": {
          "base_uri": "https://localhost:8080/",
          "height": 424
        },
        "outputId": "4f4ddfb9-84e9-43d6-976c-9dfc863de0ca"
      },
      "id": "hpeNFnFWVtd4",
      "execution_count": null,
      "outputs": [
        {
          "output_type": "execute_result",
          "data": {
            "text/plain": [
              "     Topic  Count                                               Name  \\\n",
              "0       -1  84023                               -1_на_не_отель_номер   \n",
              "1        0  28064                    0_ресторан_меню_кухня_ресторана   \n",
              "2        1   7633                              1_зуб_зубы_зуба_зубов   \n",
              "3        2   5731            2_беременности_беременность_роды_рожала   \n",
              "4        3   5447                        3_москвы_метро_отель_москве   \n",
              "..     ...    ...                                                ...   \n",
              "813    812     10                  812_нарушал_избирком_нарушении_оп   \n",
              "814    813     10           813_козырева_шогеновой_марите_валерьевна   \n",
              "815    814     10          814_московию_педиатр_педиатру_участковому   \n",
              "816    815     10  815_благдарность_сдерживаясь_ублюдочный_сотруд...   \n",
              "817    816     10  816_неврологии_сотрудникам_отделения_профессио...   \n",
              "\n",
              "                                        Representation  \\\n",
              "0    [на, не, отель, номер, что, по, за, от, есть, ...   \n",
              "1    [ресторан, меню, кухня, ресторана, интерьер, р...   \n",
              "2    [зуб, зубы, зуба, зубов, клинику, стоматологии...   \n",
              "3    [беременности, беременность, роды, рожала, род...   \n",
              "4    [москвы, метро, отель, москве, номера, номер, ...   \n",
              "..                                                 ...   \n",
              "813  [нарушал, избирком, нарушении, оп, платформы, ...   \n",
              "814  [козырева, шогеновой, марите, валерьевна, сыну...   \n",
              "815  [московию, педиатр, педиатру, участковому, лим...   \n",
              "816  [благдарность, сдерживаясь, ублюдочный, сотруд...   \n",
              "817  [неврологии, сотрудникам, отделения, профессио...   \n",
              "\n",
              "                                   Representative_Docs  \n",
              "0    [Создайте сайт Каждые полгода с мамой приезжае...  \n",
              "1    [День рождения жены решили отметить в китайско...  \n",
              "2    [Будьте аккуратней Пришла я значит в поликлини...  \n",
              "3    [Не пугайтесь отзывов 10.04.04 г. в 67 роддоме...  \n",
              "4    [Отель расположен в достаточно тихом районе(у ...  \n",
              "..                                                 ...  \n",
              "813  [Как еще сказать?Если Вы хотите утверждать, чт...  \n",
              "814  [Вылечили сыну сколиоз Хочу сказать слова благ...  \n",
              "815  [Выражаю благодарность участковому педиатру Вы...  \n",
              "816  [Конечно. В таком случае, очень рад за вашего ...  \n",
              "817  [Благодарность сотрудникам отделения неврологи...  \n",
              "\n",
              "[818 rows x 5 columns]"
            ],
            "text/html": [
              "\n",
              "  <div id=\"df-7081fd67-0479-4e31-86b6-c0a5e3df798b\" class=\"colab-df-container\">\n",
              "    <div>\n",
              "<style scoped>\n",
              "    .dataframe tbody tr th:only-of-type {\n",
              "        vertical-align: middle;\n",
              "    }\n",
              "\n",
              "    .dataframe tbody tr th {\n",
              "        vertical-align: top;\n",
              "    }\n",
              "\n",
              "    .dataframe thead th {\n",
              "        text-align: right;\n",
              "    }\n",
              "</style>\n",
              "<table border=\"1\" class=\"dataframe\">\n",
              "  <thead>\n",
              "    <tr style=\"text-align: right;\">\n",
              "      <th></th>\n",
              "      <th>Topic</th>\n",
              "      <th>Count</th>\n",
              "      <th>Name</th>\n",
              "      <th>Representation</th>\n",
              "      <th>Representative_Docs</th>\n",
              "    </tr>\n",
              "  </thead>\n",
              "  <tbody>\n",
              "    <tr>\n",
              "      <th>0</th>\n",
              "      <td>-1</td>\n",
              "      <td>84023</td>\n",
              "      <td>-1_на_не_отель_номер</td>\n",
              "      <td>[на, не, отель, номер, что, по, за, от, есть, ...</td>\n",
              "      <td>[Создайте сайт Каждые полгода с мамой приезжае...</td>\n",
              "    </tr>\n",
              "    <tr>\n",
              "      <th>1</th>\n",
              "      <td>0</td>\n",
              "      <td>28064</td>\n",
              "      <td>0_ресторан_меню_кухня_ресторана</td>\n",
              "      <td>[ресторан, меню, кухня, ресторана, интерьер, р...</td>\n",
              "      <td>[День рождения жены решили отметить в китайско...</td>\n",
              "    </tr>\n",
              "    <tr>\n",
              "      <th>2</th>\n",
              "      <td>1</td>\n",
              "      <td>7633</td>\n",
              "      <td>1_зуб_зубы_зуба_зубов</td>\n",
              "      <td>[зуб, зубы, зуба, зубов, клинику, стоматологии...</td>\n",
              "      <td>[Будьте аккуратней Пришла я значит в поликлини...</td>\n",
              "    </tr>\n",
              "    <tr>\n",
              "      <th>3</th>\n",
              "      <td>2</td>\n",
              "      <td>5731</td>\n",
              "      <td>2_беременности_беременность_роды_рожала</td>\n",
              "      <td>[беременности, беременность, роды, рожала, род...</td>\n",
              "      <td>[Не пугайтесь отзывов 10.04.04 г. в 67 роддоме...</td>\n",
              "    </tr>\n",
              "    <tr>\n",
              "      <th>4</th>\n",
              "      <td>3</td>\n",
              "      <td>5447</td>\n",
              "      <td>3_москвы_метро_отель_москве</td>\n",
              "      <td>[москвы, метро, отель, москве, номера, номер, ...</td>\n",
              "      <td>[Отель расположен в достаточно тихом районе(у ...</td>\n",
              "    </tr>\n",
              "    <tr>\n",
              "      <th>...</th>\n",
              "      <td>...</td>\n",
              "      <td>...</td>\n",
              "      <td>...</td>\n",
              "      <td>...</td>\n",
              "      <td>...</td>\n",
              "    </tr>\n",
              "    <tr>\n",
              "      <th>813</th>\n",
              "      <td>812</td>\n",
              "      <td>10</td>\n",
              "      <td>812_нарушал_избирком_нарушении_оп</td>\n",
              "      <td>[нарушал, избирком, нарушении, оп, платформы, ...</td>\n",
              "      <td>[Как еще сказать?Если Вы хотите утверждать, чт...</td>\n",
              "    </tr>\n",
              "    <tr>\n",
              "      <th>814</th>\n",
              "      <td>813</td>\n",
              "      <td>10</td>\n",
              "      <td>813_козырева_шогеновой_марите_валерьевна</td>\n",
              "      <td>[козырева, шогеновой, марите, валерьевна, сыну...</td>\n",
              "      <td>[Вылечили сыну сколиоз Хочу сказать слова благ...</td>\n",
              "    </tr>\n",
              "    <tr>\n",
              "      <th>815</th>\n",
              "      <td>814</td>\n",
              "      <td>10</td>\n",
              "      <td>814_московию_педиатр_педиатру_участковому</td>\n",
              "      <td>[московию, педиатр, педиатру, участковому, лим...</td>\n",
              "      <td>[Выражаю благодарность участковому педиатру Вы...</td>\n",
              "    </tr>\n",
              "    <tr>\n",
              "      <th>816</th>\n",
              "      <td>815</td>\n",
              "      <td>10</td>\n",
              "      <td>815_благдарность_сдерживаясь_ублюдочный_сотруд...</td>\n",
              "      <td>[благдарность, сдерживаясь, ублюдочный, сотруд...</td>\n",
              "      <td>[Конечно. В таком случае, очень рад за вашего ...</td>\n",
              "    </tr>\n",
              "    <tr>\n",
              "      <th>817</th>\n",
              "      <td>816</td>\n",
              "      <td>10</td>\n",
              "      <td>816_неврологии_сотрудникам_отделения_профессио...</td>\n",
              "      <td>[неврологии, сотрудникам, отделения, профессио...</td>\n",
              "      <td>[Благодарность сотрудникам отделения неврологи...</td>\n",
              "    </tr>\n",
              "  </tbody>\n",
              "</table>\n",
              "<p>818 rows × 5 columns</p>\n",
              "</div>\n",
              "    <div class=\"colab-df-buttons\">\n",
              "\n",
              "  <div class=\"colab-df-container\">\n",
              "    <button class=\"colab-df-convert\" onclick=\"convertToInteractive('df-7081fd67-0479-4e31-86b6-c0a5e3df798b')\"\n",
              "            title=\"Convert this dataframe to an interactive table.\"\n",
              "            style=\"display:none;\">\n",
              "\n",
              "  <svg xmlns=\"http://www.w3.org/2000/svg\" height=\"24px\" viewBox=\"0 -960 960 960\">\n",
              "    <path d=\"M120-120v-720h720v720H120Zm60-500h600v-160H180v160Zm220 220h160v-160H400v160Zm0 220h160v-160H400v160ZM180-400h160v-160H180v160Zm440 0h160v-160H620v160ZM180-180h160v-160H180v160Zm440 0h160v-160H620v160Z\"/>\n",
              "  </svg>\n",
              "    </button>\n",
              "\n",
              "  <style>\n",
              "    .colab-df-container {\n",
              "      display:flex;\n",
              "      gap: 12px;\n",
              "    }\n",
              "\n",
              "    .colab-df-convert {\n",
              "      background-color: #E8F0FE;\n",
              "      border: none;\n",
              "      border-radius: 50%;\n",
              "      cursor: pointer;\n",
              "      display: none;\n",
              "      fill: #1967D2;\n",
              "      height: 32px;\n",
              "      padding: 0 0 0 0;\n",
              "      width: 32px;\n",
              "    }\n",
              "\n",
              "    .colab-df-convert:hover {\n",
              "      background-color: #E2EBFA;\n",
              "      box-shadow: 0px 1px 2px rgba(60, 64, 67, 0.3), 0px 1px 3px 1px rgba(60, 64, 67, 0.15);\n",
              "      fill: #174EA6;\n",
              "    }\n",
              "\n",
              "    .colab-df-buttons div {\n",
              "      margin-bottom: 4px;\n",
              "    }\n",
              "\n",
              "    [theme=dark] .colab-df-convert {\n",
              "      background-color: #3B4455;\n",
              "      fill: #D2E3FC;\n",
              "    }\n",
              "\n",
              "    [theme=dark] .colab-df-convert:hover {\n",
              "      background-color: #434B5C;\n",
              "      box-shadow: 0px 1px 3px 1px rgba(0, 0, 0, 0.15);\n",
              "      filter: drop-shadow(0px 1px 2px rgba(0, 0, 0, 0.3));\n",
              "      fill: #FFFFFF;\n",
              "    }\n",
              "  </style>\n",
              "\n",
              "    <script>\n",
              "      const buttonEl =\n",
              "        document.querySelector('#df-7081fd67-0479-4e31-86b6-c0a5e3df798b button.colab-df-convert');\n",
              "      buttonEl.style.display =\n",
              "        google.colab.kernel.accessAllowed ? 'block' : 'none';\n",
              "\n",
              "      async function convertToInteractive(key) {\n",
              "        const element = document.querySelector('#df-7081fd67-0479-4e31-86b6-c0a5e3df798b');\n",
              "        const dataTable =\n",
              "          await google.colab.kernel.invokeFunction('convertToInteractive',\n",
              "                                                    [key], {});\n",
              "        if (!dataTable) return;\n",
              "\n",
              "        const docLinkHtml = 'Like what you see? Visit the ' +\n",
              "          '<a target=\"_blank\" href=https://colab.research.google.com/notebooks/data_table.ipynb>data table notebook</a>'\n",
              "          + ' to learn more about interactive tables.';\n",
              "        element.innerHTML = '';\n",
              "        dataTable['output_type'] = 'display_data';\n",
              "        await google.colab.output.renderOutput(dataTable, element);\n",
              "        const docLink = document.createElement('div');\n",
              "        docLink.innerHTML = docLinkHtml;\n",
              "        element.appendChild(docLink);\n",
              "      }\n",
              "    </script>\n",
              "  </div>\n",
              "\n",
              "\n",
              "<div id=\"df-00692c21-ef71-42a7-8f48-610fb53819ae\">\n",
              "  <button class=\"colab-df-quickchart\" onclick=\"quickchart('df-00692c21-ef71-42a7-8f48-610fb53819ae')\"\n",
              "            title=\"Suggest charts\"\n",
              "            style=\"display:none;\">\n",
              "\n",
              "<svg xmlns=\"http://www.w3.org/2000/svg\" height=\"24px\"viewBox=\"0 0 24 24\"\n",
              "     width=\"24px\">\n",
              "    <g>\n",
              "        <path d=\"M19 3H5c-1.1 0-2 .9-2 2v14c0 1.1.9 2 2 2h14c1.1 0 2-.9 2-2V5c0-1.1-.9-2-2-2zM9 17H7v-7h2v7zm4 0h-2V7h2v10zm4 0h-2v-4h2v4z\"/>\n",
              "    </g>\n",
              "</svg>\n",
              "  </button>\n",
              "\n",
              "<style>\n",
              "  .colab-df-quickchart {\n",
              "      --bg-color: #E8F0FE;\n",
              "      --fill-color: #1967D2;\n",
              "      --hover-bg-color: #E2EBFA;\n",
              "      --hover-fill-color: #174EA6;\n",
              "      --disabled-fill-color: #AAA;\n",
              "      --disabled-bg-color: #DDD;\n",
              "  }\n",
              "\n",
              "  [theme=dark] .colab-df-quickchart {\n",
              "      --bg-color: #3B4455;\n",
              "      --fill-color: #D2E3FC;\n",
              "      --hover-bg-color: #434B5C;\n",
              "      --hover-fill-color: #FFFFFF;\n",
              "      --disabled-bg-color: #3B4455;\n",
              "      --disabled-fill-color: #666;\n",
              "  }\n",
              "\n",
              "  .colab-df-quickchart {\n",
              "    background-color: var(--bg-color);\n",
              "    border: none;\n",
              "    border-radius: 50%;\n",
              "    cursor: pointer;\n",
              "    display: none;\n",
              "    fill: var(--fill-color);\n",
              "    height: 32px;\n",
              "    padding: 0;\n",
              "    width: 32px;\n",
              "  }\n",
              "\n",
              "  .colab-df-quickchart:hover {\n",
              "    background-color: var(--hover-bg-color);\n",
              "    box-shadow: 0 1px 2px rgba(60, 64, 67, 0.3), 0 1px 3px 1px rgba(60, 64, 67, 0.15);\n",
              "    fill: var(--button-hover-fill-color);\n",
              "  }\n",
              "\n",
              "  .colab-df-quickchart-complete:disabled,\n",
              "  .colab-df-quickchart-complete:disabled:hover {\n",
              "    background-color: var(--disabled-bg-color);\n",
              "    fill: var(--disabled-fill-color);\n",
              "    box-shadow: none;\n",
              "  }\n",
              "\n",
              "  .colab-df-spinner {\n",
              "    border: 2px solid var(--fill-color);\n",
              "    border-color: transparent;\n",
              "    border-bottom-color: var(--fill-color);\n",
              "    animation:\n",
              "      spin 1s steps(1) infinite;\n",
              "  }\n",
              "\n",
              "  @keyframes spin {\n",
              "    0% {\n",
              "      border-color: transparent;\n",
              "      border-bottom-color: var(--fill-color);\n",
              "      border-left-color: var(--fill-color);\n",
              "    }\n",
              "    20% {\n",
              "      border-color: transparent;\n",
              "      border-left-color: var(--fill-color);\n",
              "      border-top-color: var(--fill-color);\n",
              "    }\n",
              "    30% {\n",
              "      border-color: transparent;\n",
              "      border-left-color: var(--fill-color);\n",
              "      border-top-color: var(--fill-color);\n",
              "      border-right-color: var(--fill-color);\n",
              "    }\n",
              "    40% {\n",
              "      border-color: transparent;\n",
              "      border-right-color: var(--fill-color);\n",
              "      border-top-color: var(--fill-color);\n",
              "    }\n",
              "    60% {\n",
              "      border-color: transparent;\n",
              "      border-right-color: var(--fill-color);\n",
              "    }\n",
              "    80% {\n",
              "      border-color: transparent;\n",
              "      border-right-color: var(--fill-color);\n",
              "      border-bottom-color: var(--fill-color);\n",
              "    }\n",
              "    90% {\n",
              "      border-color: transparent;\n",
              "      border-bottom-color: var(--fill-color);\n",
              "    }\n",
              "  }\n",
              "</style>\n",
              "\n",
              "  <script>\n",
              "    async function quickchart(key) {\n",
              "      const quickchartButtonEl =\n",
              "        document.querySelector('#' + key + ' button');\n",
              "      quickchartButtonEl.disabled = true;  // To prevent multiple clicks.\n",
              "      quickchartButtonEl.classList.add('colab-df-spinner');\n",
              "      try {\n",
              "        const charts = await google.colab.kernel.invokeFunction(\n",
              "            'suggestCharts', [key], {});\n",
              "      } catch (error) {\n",
              "        console.error('Error during call to suggestCharts:', error);\n",
              "      }\n",
              "      quickchartButtonEl.classList.remove('colab-df-spinner');\n",
              "      quickchartButtonEl.classList.add('colab-df-quickchart-complete');\n",
              "    }\n",
              "    (() => {\n",
              "      let quickchartButtonEl =\n",
              "        document.querySelector('#df-00692c21-ef71-42a7-8f48-610fb53819ae button');\n",
              "      quickchartButtonEl.style.display =\n",
              "        google.colab.kernel.accessAllowed ? 'block' : 'none';\n",
              "    })();\n",
              "  </script>\n",
              "</div>\n",
              "    </div>\n",
              "  </div>\n"
            ],
            "application/vnd.google.colaboratory.intrinsic+json": {
              "type": "dataframe",
              "summary": "{\n  \"name\": \"topic_model\",\n  \"rows\": 818,\n  \"fields\": [\n    {\n      \"column\": \"Topic\",\n      \"properties\": {\n        \"dtype\": \"number\",\n        \"std\": 236,\n        \"min\": -1,\n        \"max\": 816,\n        \"num_unique_values\": 818,\n        \"samples\": [\n          85,\n          430,\n          797\n        ],\n        \"semantic_type\": \"\",\n        \"description\": \"\"\n      }\n    },\n    {\n      \"column\": \"Count\",\n      \"properties\": {\n        \"dtype\": \"number\",\n        \"std\": 3126,\n        \"min\": 10,\n        \"max\": 84023,\n        \"num_unique_values\": 159,\n        \"samples\": [\n          106,\n          13,\n          40\n        ],\n        \"semantic_type\": \"\",\n        \"description\": \"\"\n      }\n    },\n    {\n      \"column\": \"Name\",\n      \"properties\": {\n        \"dtype\": \"string\",\n        \"num_unique_values\": 818,\n        \"samples\": [\n          \"85_gifx_\\u0431\\u0430\\u043c\\u043f_\\u043b\\u0430_\\u043f\\u0435\\u0442\\u0443\\u0448\\u0430\\u0440\\u0438\\u0439\",\n          \"430_\\u0432\\u043e\\u043b\\u0433\\u043e\\u0433\\u0440\\u0430\\u0434\\u0441\\u043a\\u0430\\u044f_\\u0441\\u043c\\u0435\\u0440\\u0442\\u043d\\u0438\\u0446\\u0430_\\u0442\\u0435\\u0440\\u0440\\u043e\\u0440\\u0438\\u0441\\u0442\\u043e\\u0432_\\u0434\\u0430\\u043d\\u043d\\u044b\\u0435\",\n          \"797_\\u0434\\u0435\\u043c\\u043f\\u0444\\u0435\\u0440\\u0430_\\u043e\\u0431\\u043e\\u0434\\u043a\\u0430_\\u043f\\u0440\\u043e\\u0442\\u044f\\u0433\\u0438\\u0432\\u0430\\u044e_\\u043a\\u0430\\u0441\\u0430\\u0442\\u0435\\u043b\\u044c\\u043d\\u044b\\u0445\"\n        ],\n        \"semantic_type\": \"\",\n        \"description\": \"\"\n      }\n    },\n    {\n      \"column\": \"Representation\",\n      \"properties\": {\n        \"dtype\": \"object\",\n        \"semantic_type\": \"\",\n        \"description\": \"\"\n      }\n    },\n    {\n      \"column\": \"Representative_Docs\",\n      \"properties\": {\n        \"dtype\": \"object\",\n        \"semantic_type\": \"\",\n        \"description\": \"\"\n      }\n    }\n  ]\n}"
            }
          },
          "metadata": {},
          "execution_count": 13
        }
      ]
    },
    {
      "cell_type": "code",
      "source": [
        "topic_model.visualize_topics()"
      ],
      "metadata": {
        "id": "na2QU_vpWdS8"
      },
      "id": "na2QU_vpWdS8",
      "execution_count": null,
      "outputs": []
    },
    {
      "cell_type": "markdown",
      "source": [
        "![newplot.png](data:image/png;base64,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)"
      ],
      "metadata": {
        "id": "fCZXVNSOQOnL"
      },
      "id": "fCZXVNSOQOnL"
    },
    {
      "cell_type": "markdown",
      "source": [
        "**Предложение по дальнейшему улучшнию тематического моделирования** - Для повышения качества можно реализовать автоматический подбор оптимальных компонентов пайплайна, а именно:\n",
        "\n",
        "1) Выполнять перебор различных моделей векторизации текста (например, TF-IDF, Sentence-BERT, DistilBERT и тд.)\n",
        "\n",
        "2) Тестировать разные алгоритмы кластеризации (такие как HDBSCAN, KMeans, Agglomerative Clustering и тд.)\n",
        "\n",
        "3) Использовать GridSearch или аналогичные методы подбора гиперпараметров, чтобы найти наилучшие сочетания\n",
        "\n",
        "После получения разных тематических моделей, их качество можно оценивать с помощью LLM.\n",
        "\n",
        "Такой подход позволяет построить полностью автоматизированную систему выбора лучших параметров тематического моделирования."
      ],
      "metadata": {
        "id": "MlO3U0WggMTb"
      },
      "id": "MlO3U0WggMTb"
    },
    {
      "cell_type": "markdown",
      "source": [
        "# Часть 2. Обучение классификатора"
      ],
      "metadata": {
        "id": "FstrrFcOZqNs"
      },
      "id": "FstrrFcOZqNs"
    },
    {
      "cell_type": "code",
      "source": [
        "#Импорт и установка необходимых библиотек\n",
        "%pip install datasets -q\n",
        "from sklearn.model_selection import train_test_split\n",
        "from datasets import Dataset\n",
        "import transformers\n",
        "from transformers import AutoTokenizer, AutoModelForSequenceClassification, Trainer, TrainingArguments\n",
        "from sklearn.metrics import f1_score\n",
        "import torch\n",
        "import time\n"
      ],
      "metadata": {
        "id": "SGerbz70hEsa"
      },
      "id": "SGerbz70hEsa",
      "execution_count": null,
      "outputs": []
    },
    {
      "cell_type": "code",
      "source": [
        "#Разбиение данных на тренировочную и тестовую выборку, валидационная уже имеется\n",
        "train_data, test_data = train_test_split(\n",
        "    data_train,\n",
        "    test_size=0.1,\n",
        "    random_state=42,\n",
        "    stratify=data_train[\"sentiment\"]\n",
        ")"
      ],
      "metadata": {
        "id": "9DmIzxi3XzrB"
      },
      "id": "9DmIzxi3XzrB",
      "execution_count": null,
      "outputs": []
    },
    {
      "cell_type": "code",
      "source": [
        "print(\"\\nРаспределение классов:\")\n",
        "print(\"Train:\", train_data[\"sentiment\"].value_counts())\n",
        "print(\"Valid:\", val_data[\"sentiment\"].value_counts())\n",
        "print(\"Test:\", test_data[\"sentiment\"].value_counts())"
      ],
      "metadata": {
        "colab": {
          "base_uri": "https://localhost:8080/"
        },
        "id": "slu8H70HJ3pv",
        "outputId": "9fa94110-2b47-43e2-a076-9c9c3e05b8f7"
      },
      "id": "slu8H70HJ3pv",
      "execution_count": null,
      "outputs": [
        {
          "output_type": "stream",
          "name": "stdout",
          "text": [
            "\n",
            "Распределение классов:\n",
            "Train: sentiment\n",
            "1    81689\n",
            "2    44818\n",
            "0    44394\n",
            "Name: count, dtype: int64\n",
            "Valid: sentiment\n",
            "1    10026\n",
            "0     5560\n",
            "2     5512\n",
            "Name: count, dtype: int64\n",
            "Test: sentiment\n",
            "1    9077\n",
            "2    4980\n",
            "0    4933\n",
            "Name: count, dtype: int64\n"
          ]
        }
      ]
    },
    {
      "cell_type": "code",
      "source": [
        "#Переименуем \"sentiment\" в \"label\" для удобства\n",
        "train_data = train_data.rename(columns={\"sentiment\": \"label\"})\n",
        "val_data = val_data.rename(columns={\"sentiment\": \"label\"})\n",
        "test_data = test_data.rename(columns={\"sentiment\": \"label\"})"
      ],
      "metadata": {
        "id": "699eaGfHXP2J"
      },
      "id": "699eaGfHXP2J",
      "execution_count": null,
      "outputs": []
    },
    {
      "cell_type": "code",
      "source": [
        "train_dataset = Dataset.from_pandas(train_data.reset_index(drop=True))\n",
        "test_dataset = Dataset.from_pandas(test_data.reset_index(drop=True))\n",
        "val_dataset = Dataset.from_pandas(val_data.reset_index(drop=True))\n"
      ],
      "metadata": {
        "id": "zPevRq4AXa2I"
      },
      "id": "zPevRq4AXa2I",
      "execution_count": null,
      "outputs": []
    },
    {
      "cell_type": "markdown",
      "source": [
        "В качестве основной модели выбирается **RuBERT**, дообученная на задачу сентимент-анализа. Эта модель основана на архитектуре трансформеров, что позволяет эффективно учитывать контекст и структуру языка при обработке текста как последовательности токенов.\n",
        "\n",
        "Преимущество **RuBERT** в том, что она уже предварительно обучена на задаче определения тональности текста, поэтому её достаточно лишь дообучить на нашей выборке, чтобы адаптировать модель к специфике конкретных данных и тем самым повысить точность классификации.\n",
        "\n",
        "Такой подход сочетает в себе силу готовой языковой модели и гибкость тонкой настройки под конкретную задачу."
      ],
      "metadata": {
        "id": "qo1IYrTLiEEr"
      },
      "id": "qo1IYrTLiEEr"
    },
    {
      "cell_type": "code",
      "source": [
        "model_name = \"cointegrated/rubert-tiny2\"\n",
        "tokenizer = AutoTokenizer.from_pretrained(model_name)\n",
        "model = AutoModelForSequenceClassification.from_pretrained(model_name, num_labels=3)"
      ],
      "metadata": {
        "id": "KV1C1_WECHq3"
      },
      "id": "KV1C1_WECHq3",
      "execution_count": null,
      "outputs": []
    },
    {
      "cell_type": "code",
      "source": [
        "#функция токенизации\n",
        "def tokenize_function(examples):\n",
        "    return tokenizer(examples[\"text\"], padding=\"max_length\", truncation=True, max_length=128)"
      ],
      "metadata": {
        "id": "TDoQim9LV6NT"
      },
      "id": "TDoQim9LV6NT",
      "execution_count": null,
      "outputs": []
    },
    {
      "cell_type": "code",
      "source": [
        "train_dataset = train_dataset.map(tokenize_function, batched=True)\n",
        "test_dataset = test_dataset.map(tokenize_function, batched=True)\n",
        "val_dataset = val_dataset.map(tokenize_function, batched=True)"
      ],
      "metadata": {
        "id": "vKJbZq42X99v"
      },
      "id": "vKJbZq42X99v",
      "execution_count": null,
      "outputs": []
    },
    {
      "cell_type": "code",
      "source": [
        "#удаляем лишние колонки\n",
        "columns_to_remove = ['Unnamed: 0',\"text\", ]\n",
        "train_dataset = train_dataset.remove_columns([col for col in columns_to_remove if col in train_dataset.column_names])\n",
        "test_dataset = test_dataset.remove_columns([col for col in columns_to_remove if col in test_dataset.column_names])\n",
        "val_dataset = val_dataset.remove_columns([col for col in columns_to_remove if col in val_dataset.column_names])"
      ],
      "metadata": {
        "id": "eIJdjspyWHma"
      },
      "id": "eIJdjspyWHma",
      "execution_count": null,
      "outputs": []
    },
    {
      "cell_type": "markdown",
      "source": [
        "Поскольку перед нами стоит задача многоклассовой классификации (три класса: положительный, нейтральный, негативный), основной метрикой качества модели выберем **F1-score**. Для более детального анализа результатов будем рассматривать усреднённые значения F1-macro и F1-micro.\n",
        "\n",
        "В качестве функции потерь будет использоваться кросс-энтропия (**Cross-Entropy Loss**) — стандартный и эффективный выбор для многоклассовой классификации. Она позволяет модели корректно обучаться на основе вероятностного распределения по классам."
      ],
      "metadata": {
        "id": "jyQofH3Bi1uH"
      },
      "id": "jyQofH3Bi1uH"
    },
    {
      "cell_type": "code",
      "source": [
        "#Функция для вычисления F1 метрик\n",
        "def compute_metrics(pred):\n",
        "\n",
        "    labels = pred.label_ids\n",
        "    predictions = np.argmax(pred.predictions, axis=1)\n",
        "\n",
        "    f1_micro = f1_score(labels, predictions, average='micro')\n",
        "    f1_macro = f1_score(labels, predictions, average='macro')\n",
        "    return {\"f1_micro\": f1_micro, \"f1_macro\": f1_macro}\n"
      ],
      "metadata": {
        "id": "sGBG1JFXWKnl"
      },
      "id": "sGBG1JFXWKnl",
      "execution_count": null,
      "outputs": []
    },
    {
      "cell_type": "code",
      "source": [
        "training_args = TrainingArguments(\n",
        "    report_to=\"none\",\n",
        "    output_dir=\"./results\",\n",
        "    num_train_epochs=3,\n",
        "    per_device_train_batch_size=16,\n",
        "    per_device_eval_batch_size=32,\n",
        "    learning_rate=2e-5,\n",
        "    eval_strategy=\"epoch\",\n",
        "    logging_dir=\"./logs\",\n",
        "    load_best_model_at_end=True,\n",
        "    save_strategy=\"epoch\",\n",
        "    metric_for_best_model=\"f1_macro\",\n",
        "    seed=42,\n",
        ")\n"
      ],
      "metadata": {
        "id": "EKlgn8OsZF1f"
      },
      "id": "EKlgn8OsZF1f",
      "execution_count": null,
      "outputs": []
    },
    {
      "cell_type": "code",
      "source": [
        "trainer = Trainer(\n",
        "    model=model,\n",
        "    args=training_args,\n",
        "    train_dataset=train_dataset,\n",
        "    eval_dataset=val_dataset,\n",
        "    compute_metrics=compute_metrics,\n",
        ")\n"
      ],
      "metadata": {
        "id": "uHRN-h-HZlHU"
      },
      "id": "uHRN-h-HZlHU",
      "execution_count": null,
      "outputs": []
    },
    {
      "cell_type": "code",
      "source": [
        "trainer.train()"
      ],
      "metadata": {
        "colab": {
          "base_uri": "https://localhost:8080/",
          "height": 204
        },
        "id": "-Jp-_ClUZnyZ",
        "outputId": "2f730da3-0f10-40c0-f2fd-302fe5057be4"
      },
      "id": "-Jp-_ClUZnyZ",
      "execution_count": null,
      "outputs": [
        {
          "output_type": "display_data",
          "data": {
            "text/plain": [
              "<IPython.core.display.HTML object>"
            ],
            "text/html": [
              "\n",
              "    <div>\n",
              "      \n",
              "      <progress value='32046' max='32046' style='width:300px; height:20px; vertical-align: middle;'></progress>\n",
              "      [32046/32046 17:25, Epoch 3/3]\n",
              "    </div>\n",
              "    <table border=\"1\" class=\"dataframe\">\n",
              "  <thead>\n",
              " <tr style=\"text-align: left;\">\n",
              "      <th>Epoch</th>\n",
              "      <th>Training Loss</th>\n",
              "      <th>Validation Loss</th>\n",
              "      <th>F1 Micro</th>\n",
              "      <th>F1 Macro</th>\n",
              "    </tr>\n",
              "  </thead>\n",
              "  <tbody>\n",
              "    <tr>\n",
              "      <td>1</td>\n",
              "      <td>0.501000</td>\n",
              "      <td>0.495657</td>\n",
              "      <td>0.774576</td>\n",
              "      <td>0.761018</td>\n",
              "    </tr>\n",
              "    <tr>\n",
              "      <td>2</td>\n",
              "      <td>0.457300</td>\n",
              "      <td>0.478842</td>\n",
              "      <td>0.783155</td>\n",
              "      <td>0.773885</td>\n",
              "    </tr>\n",
              "    <tr>\n",
              "      <td>3</td>\n",
              "      <td>0.406000</td>\n",
              "      <td>0.484154</td>\n",
              "      <td>0.787752</td>\n",
              "      <td>0.776894</td>\n",
              "    </tr>\n",
              "  </tbody>\n",
              "</table><p>"
            ]
          },
          "metadata": {}
        },
        {
          "output_type": "execute_result",
          "data": {
            "text/plain": [
              "TrainOutput(global_step=32046, training_loss=0.4769653496965148, metrics={'train_runtime': 1047.205, 'train_samples_per_second': 489.592, 'train_steps_per_second': 30.601, 'total_flos': 945317755401984.0, 'train_loss': 0.4769653496965148, 'epoch': 3.0})"
            ]
          },
          "metadata": {},
          "execution_count": 17
        }
      ]
    },
    {
      "cell_type": "code",
      "source": [
        "test_results = trainer.evaluate(test_dataset)\n",
        "print(test_results)"
      ],
      "metadata": {
        "colab": {
          "base_uri": "https://localhost:8080/",
          "height": 74
        },
        "id": "_hHKFXRHmB_F",
        "outputId": "6fd4fbc9-b924-4055-e48f-0bc862906944"
      },
      "id": "_hHKFXRHmB_F",
      "execution_count": null,
      "outputs": [
        {
          "output_type": "display_data",
          "data": {
            "text/plain": [
              "<IPython.core.display.HTML object>"
            ],
            "text/html": [
              "\n",
              "    <div>\n",
              "      \n",
              "      <progress value='594' max='594' style='width:300px; height:20px; vertical-align: middle;'></progress>\n",
              "      [594/594 00:10]\n",
              "    </div>\n",
              "    "
            ]
          },
          "metadata": {}
        },
        {
          "output_type": "stream",
          "name": "stdout",
          "text": [
            "{'eval_loss': 0.48279517889022827, 'eval_f1_micro': 0.7889415481832543, 'eval_f1_macro': 0.7777086930620306, 'eval_runtime': 10.211, 'eval_samples_per_second': 1859.754, 'eval_steps_per_second': 58.172, 'epoch': 3.0}\n"
          ]
        }
      ]
    },
    {
      "cell_type": "code",
      "source": [
        "#сохраним модель\n",
        "model.save_pretrained(\"./sentiment_model\")\n",
        "tokenizer.save_pretrained(\"./sentiment_model\")"
      ],
      "metadata": {
        "colab": {
          "base_uri": "https://localhost:8080/"
        },
        "id": "VFIq7t19mJJ-",
        "outputId": "fd24e72c-29a5-4adb-8c13-22857302430b"
      },
      "id": "VFIq7t19mJJ-",
      "execution_count": null,
      "outputs": [
        {
          "output_type": "execute_result",
          "data": {
            "text/plain": [
              "('./sentiment_model/tokenizer_config.json',\n",
              " './sentiment_model/special_tokens_map.json',\n",
              " './sentiment_model/vocab.txt',\n",
              " './sentiment_model/added_tokens.json',\n",
              " './sentiment_model/tokenizer.json')"
            ]
          },
          "metadata": {},
          "execution_count": 19
        }
      ]
    },
    {
      "cell_type": "code",
      "source": [
        "model_path = \"./sentiment_model\"\n",
        "tokenizer = AutoTokenizer.from_pretrained(model_path)\n",
        "model = AutoModelForSequenceClassification.from_pretrained(model_path)"
      ],
      "metadata": {
        "id": "nOZR6538uQD-"
      },
      "id": "nOZR6538uQD-",
      "execution_count": null,
      "outputs": []
    },
    {
      "cell_type": "code",
      "source": [
        "device_cpu = torch.device(\"cpu\")\n",
        "device_gpu = torch.device(\"cuda\" if torch.cuda.is_available() else \"cpu\")\n",
        "\n",
        "# Переводим модель на CPU/GPU\n",
        "model.to(device_cpu)\n",
        "inputs_cpu = tokenizer(\n",
        "    [\"Пример текста для теста скорости\"] * 100,\n",
        "    return_tensors=\"pt\",\n",
        "    padding=True,\n",
        "    truncation=True,\n",
        "    max_length=256\n",
        ").to(device_cpu)\n",
        "\n",
        "# Замер на CPU\n",
        "start_time = time.time()\n",
        "with torch.no_grad():\n",
        "    outputs_cpu = model(**inputs_cpu)\n",
        "cpu_time = time.time() - start_time\n",
        "\n",
        "# Замер на GPU\n",
        "if torch.cuda.is_available():\n",
        "    model.to(device_gpu)\n",
        "    inputs_gpu = inputs_cpu.to(device_gpu)\n",
        "\n",
        "\n",
        "    with torch.no_grad():\n",
        "        _ = model(**inputs_gpu)\n",
        "\n",
        "\n",
        "    start_time = time.time()\n",
        "    with torch.no_grad():\n",
        "        outputs_gpu = model(**inputs_gpu)\n",
        "    gpu_time = time.time() - start_time\n",
        "else:\n",
        "    gpu_time = None\n",
        "\n",
        "# Вывод результатов\n",
        "print(f\"CPU Time (100 samples): {cpu_time:.4f} sec\")\n",
        "if gpu_time:\n",
        "    print(f\"GPU Time (100 samples): {gpu_time:.4f} sec\")\n",
        "    print(f\"GPU Speedup: {cpu_time / gpu_time:.2f}x\")\n",
        "else:\n",
        "    print(\"GPU not available\")"
      ],
      "metadata": {
        "colab": {
          "base_uri": "https://localhost:8080/"
        },
        "id": "eJfgNBG1vVwQ",
        "outputId": "170686a2-320d-4bbf-ad85-c6fded4abf7a"
      },
      "id": "eJfgNBG1vVwQ",
      "execution_count": null,
      "outputs": [
        {
          "output_type": "stream",
          "name": "stdout",
          "text": [
            "CPU Time (100 samples): 0.4287 sec\n",
            "GPU Time (100 samples): 0.0185 sec\n",
            "GPU Speedup: 23.21x\n"
          ]
        }
      ]
    },
    {
      "cell_type": "markdown",
      "source": [
        "Для повышения качества модели можно применить дообучение только последних слоёв нейронной сети, вместо полной перенастройки всех параметров. Такой подход позволяет сохранить обобщающие способности предобученной модели и при этом эффективно адаптировать её к конкретной задаче. Дополнительно, качество можно улучшить за счёт расширения и разнообразия обучающего датасета, добавив больше примеров с различной лексикой, стилистикой и длиной текста.\n",
        "\n",
        "Для ускорения инференса модели можно сконвертировать её в формат **ONNX**. Это позволит значительно снизить время выполнения модели за счёт аппаратных и программных оптимизаций."
      ],
      "metadata": {
        "id": "pDwafCL9jSia"
      },
      "id": "pDwafCL9jSia"
    },
    {
      "cell_type": "markdown",
      "source": [
        "# Часть 3. Оптимизация классификатора"
      ],
      "metadata": {
        "id": "bQ4eudiwZxNc"
      },
      "id": "bQ4eudiwZxNc"
    },
    {
      "cell_type": "markdown",
      "source": [
        "Выберем **ONNX** как метод оптимизации, потому что он позволяет ускорить инференс на CPU без потери качества модели. Также можно квантовать модель, что значительно ускорит ее работу, однако из-за перевода весов в целые числа уменьшится точность."
      ],
      "metadata": {
        "id": "-lsNOX2i1aru"
      },
      "id": "-lsNOX2i1aru"
    },
    {
      "cell_type": "code",
      "source": [
        "#Импорт и установка необходимых библиотек\n",
        "%pip install onnx onnxruntime -q\n",
        "import onnx\n",
        "from onnxruntime.transformers import optimizer\n",
        "import time\n",
        "from onnxruntime import InferenceSession"
      ],
      "metadata": {
        "id": "r_FsZqAbZ0rA"
      },
      "id": "r_FsZqAbZ0rA",
      "execution_count": null,
      "outputs": []
    },
    {
      "cell_type": "code",
      "source": [
        "model_name = \"./sentiment_model\"\n",
        "tokenizer = AutoTokenizer.from_pretrained(model_name)\n",
        "model = AutoModelForSequenceClassification.from_pretrained(model_name)\n",
        "model.eval()\n",
        "\n",
        "# Пример входных данных (нужен для формирования ONNX-графа)\n",
        "dummy_input = tokenizer(\n",
        "    \"Пример текста для конвертации\",\n",
        "    return_tensors=\"pt\",\n",
        "    truncation=True,\n",
        "    max_length=256\n",
        ")\n",
        "\n",
        "# Конвертация в ONNX\n",
        "torch.onnx.export(\n",
        "    model,\n",
        "    (dummy_input[\"input_ids\"], dummy_input[\"attention_mask\"]),\n",
        "    \"sentiment_model.onnx\",\n",
        "    input_names=[\"input_ids\", \"attention_mask\"],\n",
        "    output_names=[\"logits\"],\n",
        "    dynamic_axes={\n",
        "        \"input_ids\": {0: \"batch\", 1: \"sequence\"},\n",
        "        \"attention_mask\": {0: \"batch\", 1: \"sequence\"},\n",
        "        \"logits\": {0: \"batch\"},\n",
        "    },\n",
        "    opset_version=15,\n",
        ")"
      ],
      "metadata": {
        "id": "ReGx4sgUal9x"
      },
      "id": "ReGx4sgUal9x",
      "execution_count": null,
      "outputs": []
    },
    {
      "cell_type": "code",
      "source": [
        "# Оптимизация\n",
        "optimized_model = optimizer.optimize_model(\n",
        "    \"sentiment_model.onnx\",\n",
        "    model_type='bert',\n",
        "    num_heads=model.config.num_attention_heads,\n",
        "    hidden_size=model.config.hidden_size\n",
        ")\n",
        "optimized_model.save_model_to_file(\"optimized_model.onnx\")\n"
      ],
      "metadata": {
        "id": "rh-twMrKa_QZ"
      },
      "id": "rh-twMrKa_QZ",
      "execution_count": null,
      "outputs": []
    },
    {
      "cell_type": "code",
      "source": [
        "def evaluate_model(model, tokenizer, test_texts, test_labels):\n",
        "    predictions = []\n",
        "    times = []\n",
        "\n",
        "    for text, label in zip(test_texts, test_labels):\n",
        "        inputs = tokenizer(text, return_tensors=\"pt\", padding=True, truncation=True)\n",
        "\n",
        "        start_time = time.time()\n",
        "        with torch.no_grad():\n",
        "            outputs = model(**inputs)\n",
        "        inference_time = time.time() - start_time\n",
        "\n",
        "        pred = torch.argmax(outputs.logits).item()\n",
        "        predictions.append(pred)\n",
        "        times.append(inference_time)\n",
        "\n",
        "    f1 = f1_score(test_labels, predictions, average='weighted')\n",
        "    avg_time = np.mean(times)\n",
        "\n",
        "    return f1, avg_time"
      ],
      "metadata": {
        "id": "pwkNCo4JWhyW"
      },
      "id": "pwkNCo4JWhyW",
      "execution_count": null,
      "outputs": []
    },
    {
      "cell_type": "code",
      "source": [
        "def evaluate_onnx_model(session, tokenizer, test_texts, test_labels):\n",
        "    predictions = []\n",
        "    times = []\n",
        "\n",
        "    for text, label in zip(test_texts, test_labels):\n",
        "        inputs = tokenizer(text, return_tensors=\"np\", padding=True, truncation=True)\n",
        "\n",
        "\n",
        "        onnx_inputs = {\n",
        "            'input_ids': inputs['input_ids'].astype(np.int64),\n",
        "            'attention_mask': inputs['attention_mask'].astype(np.int64)\n",
        "        }\n",
        "\n",
        "        start_time = time.time()\n",
        "        onnx_outputs = session.run(None, onnx_inputs)\n",
        "        inference_time = time.time() - start_time\n",
        "\n",
        "\n",
        "        pred = np.argmax(onnx_outputs[0], axis=1)[0]\n",
        "        predictions.append(pred)\n",
        "        times.append(inference_time)\n",
        "\n",
        "\n",
        "    f1 = f1_score(test_labels, predictions, average='weighted')\n",
        "    avg_time = np.mean(times)\n",
        "\n",
        "    return f1, avg_time"
      ],
      "metadata": {
        "id": "OkKP6UG0dhca"
      },
      "id": "OkKP6UG0dhca",
      "execution_count": null,
      "outputs": []
    },
    {
      "cell_type": "code",
      "source": [
        "# Загрузка тестовых данных\n",
        "test_sample = test_data.sample(n=1000, random_state=42)\n",
        "test_dataset_1 = Dataset.from_pandas(test_sample.reset_index(drop=True))\n",
        "test_texts = test_dataset_1['text']\n",
        "test_labels = test_dataset_1['label']"
      ],
      "metadata": {
        "id": "XHP7vWjzgYDi"
      },
      "id": "XHP7vWjzgYDi",
      "execution_count": null,
      "outputs": []
    },
    {
      "cell_type": "code",
      "source": [
        "orig_f1, orig_time = evaluate_model(model, tokenizer, test_texts, test_labels)"
      ],
      "metadata": {
        "id": "u9zxhwcHXRl7"
      },
      "id": "u9zxhwcHXRl7",
      "execution_count": null,
      "outputs": []
    },
    {
      "cell_type": "code",
      "source": [
        "onnx_session = InferenceSession(\"optimized_model.onnx\")\n",
        "onnx_f1, onnx_time = evaluate_onnx_model(onnx_session, tokenizer, test_texts, test_labels)"
      ],
      "metadata": {
        "id": "WUlbFYFda5ar"
      },
      "id": "WUlbFYFda5ar",
      "execution_count": null,
      "outputs": []
    },
    {
      "cell_type": "code",
      "source": [
        "# Создание таблицы\n",
        "results = pd.DataFrame({\n",
        "    \"Model\": [\"Original\", \"ONNX\"],\n",
        "    \"F1 Score\": [orig_f1, onnx_f1],\n",
        "    \"Avg Inference Time (s)\": [orig_time, onnx_time],\n",
        "    \"Speedup\": [1.0, orig_time/onnx_time]\n",
        "})\n",
        "\n",
        "print(results)"
      ],
      "metadata": {
        "colab": {
          "base_uri": "https://localhost:8080/"
        },
        "id": "kLErgWP1bu6b",
        "outputId": "f8a1e4c2-15a1-4b67-acfb-16658ca94e81"
      },
      "id": "kLErgWP1bu6b",
      "execution_count": null,
      "outputs": [
        {
          "output_type": "stream",
          "name": "stdout",
          "text": [
            "      Model  F1 Score  Avg Inference Time (s)   Speedup\n",
            "0  Original  0.781998                0.046557  1.000000\n",
            "1      ONNX  0.781998                0.029704  1.567331\n"
          ]
        }
      ]
    },
    {
      "cell_type": "markdown",
      "source": [
        "Как можно заметить выше, ONNX модель дала прирост в скорости и не упала в качестве. Если пробовать квантовать модель, можно получить прирост в скорости в 2-4 раза, но ухудшится точность."
      ],
      "metadata": {
        "id": "ropRD5xM3cek"
      },
      "id": "ropRD5xM3cek"
    }
  ],
  "metadata": {
    "kernelspec": {
      "display_name": "Python 3",
      "name": "python3"
    },
    "language_info": {
      "codemirror_mode": {
        "name": "ipython",
        "version": 3
      },
      "file_extension": ".py",
      "mimetype": "text/x-python",
      "name": "python",
      "nbconvert_exporter": "python",
      "pygments_lexer": "ipython3",
      "version": "3.12.8"
    },
    "colab": {
      "provenance": [],
      "gpuType": "T4"
    },
    "accelerator": "GPU"
  },
  "nbformat": 4,
  "nbformat_minor": 5
}